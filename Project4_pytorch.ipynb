{
  "cells": [
    {
      "cell_type": "markdown",
      "id": "def8e46c-7606-4991-9b29-9223ccacd54b",
      "metadata": {
        "id": "def8e46c-7606-4991-9b29-9223ccacd54b"
      },
      "source": [
        "# Project: Pytorch"
      ]
    },
    {
      "cell_type": "markdown",
      "id": "911a145c-7d01-4210-9699-0e1fef80ff19",
      "metadata": {
        "id": "911a145c-7d01-4210-9699-0e1fef80ff19"
      },
      "source": [
        "**Instructions for Students:**\n",
        "\n",
        "Please carefully follow these steps to complete and submit your project:\n",
        "\n",
        "1. **Completing the Project**: You are required to work on and complete all tasks in the provided project. Be disciplined and ensure that you thoroughly engage with each task.\n",
        "   \n",
        "2. **Creating a Google Drive Folder**: Each of you must create a new folder on your Google Drive if you haven't already. This will be the repository for all your completed assignment and project files, aiding you in keeping your work organized and accessible.\n",
        "   \n",
        "3. **Uploading Completed Project**: Upon completion of your project, make sure to upload all necessary files, involving codes, reports, and related documents into the created Google Drive folder. Save this link in the 'Student Identity' section and also provide it as the last parameter in the `submit` function that has been provided.\n",
        "   \n",
        "4. **Sharing Folder Link**: You're required to share the link to your project Google Drive folder. This is crucial for the submission and evaluation of your project.\n",
        "   \n",
        "5. **Setting Permission toPublic**: Please make sure your Google Drive folder is set to public. This allows your instructor to access your solutions and assess your work correctly.\n",
        "\n",
        "Adhering to these procedures will facilitate a smooth project evaluation process for you and the reviewers."
      ]
    },
    {
      "cell_type": "markdown",
      "id": "8018f21d-d661-4ae4-a50d-9fb66feb291d",
      "metadata": {
        "id": "8018f21d-d661-4ae4-a50d-9fb66feb291d"
      },
      "source": [
        "## Student Identity"
      ]
    },
    {
      "cell_type": "code",
      "execution_count": null,
      "id": "9fc57472-0432-474a-b1f7-c825edfc007a",
      "metadata": {
        "colab": {
          "base_uri": "https://localhost:8080/"
        },
        "id": "9fc57472-0432-474a-b1f7-c825edfc007a",
        "outputId": "a8ef7e64-ed59-4aaf-b137-f081cfbf3a74"
      },
      "outputs": [
        {
          "name": "stdout",
          "output_type": "stream",
          "text": [
            "Requirement already satisfied: rggrader in /usr/local/lib/python3.10/dist-packages (0.1.6)\n",
            "Requirement already satisfied: requests in /usr/local/lib/python3.10/dist-packages (from rggrader) (2.31.0)\n",
            "Requirement already satisfied: pandas in /usr/local/lib/python3.10/dist-packages (from rggrader) (1.5.3)\n",
            "Requirement already satisfied: Pillow in /usr/local/lib/python3.10/dist-packages (from rggrader) (9.4.0)\n",
            "Requirement already satisfied: python-dateutil>=2.8.1 in /usr/local/lib/python3.10/dist-packages (from pandas->rggrader) (2.8.2)\n",
            "Requirement already satisfied: pytz>=2020.1 in /usr/local/lib/python3.10/dist-packages (from pandas->rggrader) (2023.4)\n",
            "Requirement already satisfied: numpy>=1.21.0 in /usr/local/lib/python3.10/dist-packages (from pandas->rggrader) (1.23.5)\n",
            "Requirement already satisfied: charset-normalizer<4,>=2 in /usr/local/lib/python3.10/dist-packages (from requests->rggrader) (3.3.2)\n",
            "Requirement already satisfied: idna<4,>=2.5 in /usr/local/lib/python3.10/dist-packages (from requests->rggrader) (3.6)\n",
            "Requirement already satisfied: urllib3<3,>=1.21.1 in /usr/local/lib/python3.10/dist-packages (from requests->rggrader) (2.0.7)\n",
            "Requirement already satisfied: certifi>=2017.4.17 in /usr/local/lib/python3.10/dist-packages (from requests->rggrader) (2024.2.2)\n",
            "Requirement already satisfied: six>=1.5 in /usr/local/lib/python3.10/dist-packages (from python-dateutil>=2.8.1->pandas->rggrader) (1.16.0)\n"
          ]
        }
      ],
      "source": [
        "# @title #### Student Identity\n",
        "student_id = \"REA13NVN\" # @param {type:\"string\"}\n",
        "name = \"Andre Fransiscus Masalle\" # @param {type:\"string\"}\n",
        "drive_link = \"\"  # @param {type:\"string\"}\n",
        "\n",
        "assignment_id = \"00_pytorch_project\"\n",
        "\n",
        "# Import grader package\n",
        "!pip install rggrader\n",
        "from rggrader import submit, submit_image"
      ]
    },
    {
      "cell_type": "markdown",
      "id": "d3b9e0f7-75d2-476a-9b29-07c1a3800925",
      "metadata": {
        "id": "d3b9e0f7-75d2-476a-9b29-07c1a3800925"
      },
      "source": [
        "## Project Description\n",
        "\n",
        "In this project, you will use what you learn to create your own Deep Learning model. We'll use a variety of datasets, each with different data types such as images, text, and numerical/categorical data. Your task is to choose one of these datasets and build a deep learning model upon it.\n"
      ]
    },
    {
      "cell_type": "markdown",
      "id": "d333f8fe-3ae6-4060-b597-e9f7d9e37582",
      "metadata": {
        "id": "d333f8fe-3ae6-4060-b597-e9f7d9e37582"
      },
      "source": [
        "## Datasets\n",
        "\n",
        "Choose one from the following datasets for your project:\n",
        "\n",
        "1. **Digits Dataset**: A simplified version of MNIST containing 8x8 images of hand-written digits. [Dataset Link](https://scikit-learn.org/stable/auto_examples/datasets/plot_digits_last_image.html)\n",
        "2. **Dogs vs. Cats Dataset from Kaggle**: A sizable dataset of 25,000 images with equal representation of dogs and cats. [Dataset Link](https://www.kaggle.com/c/dogs-vs-cats)\n",
        "3. **Breast Cancer Wisconsin (Diagnostic) Dataset**: Computed features from a digitized image of a fine needle aspirate (FNA) of a breast mass. [Dataset Link](https://archive.ics.uci.edu/ml/datasets/Breast+Cancer+Wisconsin+%28Diagnostic%29)\n",
        "4. **Spam Text Message Classification Dataset**: A collection of labeled SMS messages, categorized as \"spam\" or \"ham\". [Dataset Link](https://www.kaggle.com/uciml/sms-spam-collection-dataset)\n",
        "5. **German Credit Risk Dataset**: People's data categorized by various attributes to predict credit risk. [Dataset Link](https://archive.ics.uci.edu/ml/datasets/Statlog+%28German+Credit+Data%29)\n"
      ]
    },
    {
      "cell_type": "markdown",
      "id": "84fea308-2c09-472c-a5ec-e4ba0900d496",
      "metadata": {
        "id": "84fea308-2c09-472c-a5ec-e4ba0900d496"
      },
      "source": [
        "\n",
        "## Grading Scheme\n",
        "\n",
        "Your work will be evaluated based on both accuracy and loss value:\n",
        "\n",
        "100: The model has an accuracy of more than 80% and a Loss Value of less than 0.2. This model is excellent and demonstrates a strong understanding of the task.\n",
        "\n",
        "90: The model has an accuracy between 70% - 79% and a Loss Value between 0.2 - 0.3. This model is very good, with some room for improvement.\n",
        "\n",
        "80: The model has an accuracy between 60% - 69% and a Loss Value between 0.3 - 0.4. This model is fairly good but needs improvement in balancing accuracy and loss value.\n",
        "\n",
        "70: The model has an accuracy between 50% - 59% and a Loss Value between 0.4 - 0.5. This model is below average and needs significant improvement.\n",
        "\n",
        "60 or below: The model has an accuracy of less than 50% or a Loss Value of more than 0.5, or the student did not submit the accuracy and Loss Value. This model is poor and needs considerable improvement."
      ]
    },
    {
      "cell_type": "markdown",
      "id": "915df21b-3a7e-444a-999d-c830acdbe7f2",
      "metadata": {
        "id": "915df21b-3a7e-444a-999d-c830acdbe7f2"
      },
      "source": [
        "Rmember to make a copy of this notebook in your Google Drive and work in your own copy.\n",
        "\n",
        "Let's start your deep learning journey! Choose your dataset and delve into the project! Happy modeling!"
      ]
    },
    {
      "cell_type": "markdown",
      "id": "e0b68327-fc7b-43de-9f16-b058d11d775b",
      "metadata": {
        "id": "e0b68327-fc7b-43de-9f16-b058d11d775b"
      },
      "source": [
        "## Project Structure\n",
        "\n",
        "Your project should be organized into five main sections."
      ]
    },
    {
      "cell_type": "markdown",
      "id": "25ecc459-5019-42d8-84a6-8644cecafef3",
      "metadata": {
        "id": "25ecc459-5019-42d8-84a6-8644cecafef3"
      },
      "source": [
        "### 1. Package and Module Installation\n",
        "\n",
        "First, let's pool all package and module that you'll need in the installation section below."
      ]
    },
    {
      "cell_type": "code",
      "execution_count": null,
      "id": "62606ca1-5868-4c65-93ef-1d6ee8d8d59a",
      "metadata": {
        "colab": {
          "base_uri": "https://localhost:8080/"
        },
        "id": "62606ca1-5868-4c65-93ef-1d6ee8d8d59a",
        "outputId": "e0c5d9ee-75fd-4388-b06c-2ffb1b12df6b"
      },
      "outputs": [
        {
          "name": "stdout",
          "output_type": "stream",
          "text": [
            "Requirement already satisfied: ucimlrepo in /usr/local/lib/python3.10/dist-packages (0.0.3)\n"
          ]
        }
      ],
      "source": [
        "# Write any package/module installation that you need\n",
        "# pip install goes here, this helps declutter your output below\n",
        "!pip install ucimlrepo\n",
        "from ucimlrepo import fetch_ucirepo\n",
        "\n",
        "from sklearn.preprocessing import LabelEncoder\n",
        "from sklearn.model_selection import train_test_split\n",
        "import pandas as pd\n",
        "import numpy as np\n",
        "import torch\n",
        "import torch.nn as nn\n",
        "import torch.optim as optim\n",
        "from torch.utils.data import DataLoader, TensorDataset\n",
        "from sklearn.preprocessing import StandardScaler"
      ]
    },
    {
      "cell_type": "markdown",
      "id": "b0837717-de95-4193-9898-e2f4cadfcfc6",
      "metadata": {
        "id": "b0837717-de95-4193-9898-e2f4cadfcfc6"
      },
      "source": [
        "### 2. Data Loading and Preprocessing\n",
        "\n",
        "Load the chosen dataset and preprocess it for deep learning."
      ]
    },
    {
      "cell_type": "code",
      "execution_count": null,
      "id": "uxkHbW7cevN7",
      "metadata": {
        "colab": {
          "base_uri": "https://localhost:8080/"
        },
        "id": "uxkHbW7cevN7",
        "outputId": "edcd27b8-dae7-44af-eede-cdb9237efa60"
      },
      "outputs": [
        {
          "name": "stdout",
          "output_type": "stream",
          "text": [
            "{'uci_id': 144, 'name': 'Statlog (German Credit Data)', 'repository_url': 'https://archive.ics.uci.edu/dataset/144/statlog+german+credit+data', 'data_url': 'https://archive.ics.uci.edu/static/public/144/data.csv', 'abstract': 'This dataset classifies people described by a set of attributes as good or bad credit risks. Comes in two formats (one all numeric). Also comes with a cost matrix', 'area': 'Social Science', 'tasks': ['Classification'], 'characteristics': ['Multivariate'], 'num_instances': 1000, 'num_features': 20, 'feature_types': ['Categorical', 'Integer'], 'demographics': ['Other', 'Marital Status', 'Age', 'Occupation'], 'target_col': ['class'], 'index_col': None, 'has_missing_values': 'no', 'missing_values_symbol': None, 'year_of_dataset_creation': 1994, 'last_updated': 'Thu Aug 10 2023', 'dataset_doi': '10.24432/C5NC77', 'creators': ['Hans Hofmann'], 'intro_paper': None, 'additional_info': {'summary': 'Two datasets are provided.  the original dataset, in the form provided by Prof. Hofmann, contains categorical/symbolic attributes and is in the file \"german.data\".   \\r\\n \\r\\nFor algorithms that need numerical attributes, Strathclyde University produced the file \"german.data-numeric\".  This file has been edited and several indicator variables added to make it suitable for algorithms which cannot cope with categorical variables.   Several attributes that are ordered categorical (such as attribute 17) have been coded as integer.    This was the form used by StatLog.\\r\\n\\r\\nThis dataset requires use of a cost matrix (see below)\\r\\n\\r\\n ..... 1        2\\r\\n----------------------------\\r\\n  1   0        1\\r\\n-----------------------\\r\\n  2   5        0\\r\\n\\r\\n(1 = Good,  2 = Bad)\\r\\n\\r\\nThe rows represent the actual classification and the columns the predicted classification.\\r\\n\\r\\nIt is worse to class a customer as good when they are bad (5), than it is to class a customer as bad when they are good (1).\\r\\n', 'purpose': None, 'funded_by': None, 'instances_represent': None, 'recommended_data_splits': None, 'sensitive_data': None, 'preprocessing_description': None, 'variable_info': 'Attribute 1:  (qualitative)      \\r\\n Status of existing checking account\\r\\n             A11 :      ... <    0 DM\\r\\n\\t       A12 : 0 <= ... <  200 DM\\r\\n\\t       A13 :      ... >= 200 DM / salary assignments for at least 1 year\\r\\n               A14 : no checking account\\r\\n\\r\\nAttribute 2:  (numerical)\\r\\n\\t      Duration in month\\r\\n\\r\\nAttribute 3:  (qualitative)\\r\\n\\t      Credit history\\r\\n\\t      A30 : no credits taken/ all credits paid back duly\\r\\n              A31 : all credits at this bank paid back duly\\r\\n\\t      A32 : existing credits paid back duly till now\\r\\n              A33 : delay in paying off in the past\\r\\n\\t      A34 : critical account/  other credits existing (not at this bank)\\r\\n\\r\\nAttribute 4:  (qualitative)\\r\\n\\t      Purpose\\r\\n\\t      A40 : car (new)\\r\\n\\t      A41 : car (used)\\r\\n\\t      A42 : furniture/equipment\\r\\n\\t      A43 : radio/television\\r\\n\\t      A44 : domestic appliances\\r\\n\\t      A45 : repairs\\r\\n\\t      A46 : education\\r\\n\\t      A47 : (vacation - does not exist?)\\r\\n\\t      A48 : retraining\\r\\n\\t      A49 : business\\r\\n\\t      A410 : others\\r\\n\\r\\nAttribute 5:  (numerical)\\r\\n\\t      Credit amount\\r\\n\\r\\nAttibute 6:  (qualitative)\\r\\n\\t      Savings account/bonds\\r\\n\\t      A61 :          ... <  100 DM\\r\\n\\t      A62 :   100 <= ... <  500 DM\\r\\n\\t      A63 :   500 <= ... < 1000 DM\\r\\n\\t      A64 :          .. >= 1000 DM\\r\\n              A65 :   unknown/ no savings account\\r\\n\\r\\nAttribute 7:  (qualitative)\\r\\n\\t      Present employment since\\r\\n\\t      A71 : unemployed\\r\\n\\t      A72 :       ... < 1 year\\r\\n\\t      A73 : 1  <= ... < 4 years  \\r\\n\\t      A74 : 4  <= ... < 7 years\\r\\n\\t      A75 :       .. >= 7 years\\r\\n\\r\\nAttribute 8:  (numerical)\\r\\n\\t      Installment rate in percentage of disposable income\\r\\n\\r\\nAttribute 9:  (qualitative)\\r\\n\\t      Personal status and sex\\r\\n\\t      A91 : male   : divorced/separated\\r\\n\\t      A92 : female : divorced/separated/married\\r\\n              A93 : male   : single\\r\\n\\t      A94 : male   : married/widowed\\r\\n\\t      A95 : female : single\\r\\n\\r\\nAttribute 10: (qualitative)\\r\\n\\t      Other debtors / guarantors\\r\\n\\t      A101 : none\\r\\n\\t      A102 : co-applicant\\r\\n\\t      A103 : guarantor\\r\\n\\r\\nAttribute 11: (numerical)\\r\\n\\t      Present residence since\\r\\n\\r\\nAttribute 12: (qualitative)\\r\\n\\t      Property\\r\\n\\t      A121 : real estate\\r\\n\\t      A122 : if not A121 : building society savings agreement/ life insurance\\r\\n              A123 : if not A121/A122 : car or other, not in attribute 6\\r\\n\\t      A124 : unknown / no property\\r\\n\\r\\nAttribute 13: (numerical)\\r\\n\\t      Age in years\\r\\n\\r\\nAttribute 14: (qualitative)\\r\\n\\t      Other installment plans \\r\\n\\t      A141 : bank\\r\\n\\t      A142 : stores\\r\\n\\t      A143 : none\\r\\n\\r\\nAttribute 15: (qualitative)\\r\\n\\t      Housing\\r\\n\\t      A151 : rent\\r\\n\\t      A152 : own\\r\\n\\t      A153 : for free\\r\\n\\r\\nAttribute 16: (numerical)\\r\\n              Number of existing credits at this bank\\r\\n\\r\\nAttribute 17: (qualitative)\\r\\n\\t      Job\\r\\n\\t      A171 : unemployed/ unskilled  - non-resident\\r\\n\\t      A172 : unskilled - resident\\r\\n\\t      A173 : skilled employee / official\\r\\n\\t      A174 : management/ self-employed/\\r\\n\\t\\t     highly qualified employee/ officer\\r\\n\\r\\nAttribute 18: (numerical)\\r\\n\\t      Number of people being liable to provide maintenance for\\r\\n\\r\\nAttribute 19: (qualitative)\\r\\n\\t      Telephone\\r\\n\\t      A191 : none\\r\\n\\t      A192 : yes, registered under the customers name\\r\\n\\r\\nAttribute 20: (qualitative)\\r\\n\\t      foreign worker\\r\\n\\t      A201 : yes\\r\\n\\t      A202 : no\\r\\n', 'citation': None}}\n",
            "           name     role         type     demographic  \\\n",
            "0    Attribute1  Feature  Categorical            None   \n",
            "1    Attribute2  Feature      Integer            None   \n",
            "2    Attribute3  Feature  Categorical            None   \n",
            "3    Attribute4  Feature  Categorical            None   \n",
            "4    Attribute5  Feature      Integer            None   \n",
            "5    Attribute6  Feature  Categorical            None   \n",
            "6    Attribute7  Feature  Categorical           Other   \n",
            "7    Attribute8  Feature      Integer            None   \n",
            "8    Attribute9  Feature  Categorical  Marital Status   \n",
            "9   Attribute10  Feature  Categorical            None   \n",
            "10  Attribute11  Feature      Integer            None   \n",
            "11  Attribute12  Feature  Categorical            None   \n",
            "12  Attribute13  Feature      Integer             Age   \n",
            "13  Attribute14  Feature  Categorical            None   \n",
            "14  Attribute15  Feature  Categorical           Other   \n",
            "15  Attribute16  Feature      Integer            None   \n",
            "16  Attribute17  Feature  Categorical      Occupation   \n",
            "17  Attribute18  Feature      Integer            None   \n",
            "18  Attribute19  Feature       Binary            None   \n",
            "19  Attribute20  Feature       Binary           Other   \n",
            "20        class   Target       Binary            None   \n",
            "\n",
            "                                          description   units missing_values  \n",
            "0                 Status of existing checking account    None             no  \n",
            "1                                            Duration  months             no  \n",
            "2                                      Credit history    None             no  \n",
            "3                                             Purpose    None             no  \n",
            "4                                       Credit amount    None             no  \n",
            "5                               Savings account/bonds    None             no  \n",
            "6                            Present employment since    None             no  \n",
            "7   Installment rate in percentage of disposable i...    None             no  \n",
            "8                             Personal status and sex    None             no  \n",
            "9                          Other debtors / guarantors    None             no  \n",
            "10                            Present residence since    None             no  \n",
            "11                                           Property    None             no  \n",
            "12                                                Age   years             no  \n",
            "13                            Other installment plans    None             no  \n",
            "14                                            Housing    None             no  \n",
            "15            Number of existing credits at this bank    None             no  \n",
            "16                                                Job    None             no  \n",
            "17  Number of people being liable to provide maint...    None             no  \n",
            "18                                          Telephone    None             no  \n",
            "19                                     foreign worker    None             no  \n",
            "20                                  1 = Good, 2 = Bad    None             no  \n"
          ]
        }
      ],
      "source": [
        "\n",
        "# fetch dataset\n",
        "statlog_german_credit_data = fetch_ucirepo(id=144)\n",
        "\n",
        "# data (as pandas dataframes)\n",
        "X = statlog_german_credit_data.data.features\n",
        "y = statlog_german_credit_data.data.targets\n",
        "\n",
        "# metadata\n",
        "print(statlog_german_credit_data.metadata)\n",
        "\n",
        "# variable information\n",
        "print(statlog_german_credit_data.variables)\n"
      ]
    },
    {
      "cell_type": "code",
      "execution_count": null,
      "id": "z6GE9_uWs8_e",
      "metadata": {
        "id": "z6GE9_uWs8_e"
      },
      "outputs": [],
      "source": [
        "\n",
        "# Change the columns name of X\n",
        "new_column_names = [\n",
        "    'Status_of_existing_checking_account',\n",
        "    'Duration_months',\n",
        "    'Credit_history',\n",
        "    'Purpose',\n",
        "    'Credit_amount',\n",
        "    'Savings_account_bonds',\n",
        "    'Present_employment_since',\n",
        "    'Installment_rate_percentage',\n",
        "    'Personal_status_and_sex',\n",
        "    'Other_debtors_guarantors',\n",
        "    'Present_residence_since',\n",
        "    'Property',\n",
        "    'Age_years',\n",
        "    'Other_installment_plans',\n",
        "    'Housing',\n",
        "    'Number_of_existing_credits',\n",
        "    'Job',\n",
        "    'Number_of_people_liability',\n",
        "    'Telephone',\n",
        "    'Foreign_worker'\n",
        "]\n",
        "\n",
        "X.columns = new_column_names\n",
        "\n",
        "# Print to check\n",
        "# print(X.head())\n",
        "\n"
      ]
    },
    {
      "cell_type": "code",
      "execution_count": null,
      "id": "RwIWiIp-4rBZ",
      "metadata": {
        "colab": {
          "base_uri": "https://localhost:8080/"
        },
        "id": "RwIWiIp-4rBZ",
        "outputId": "b2e0b62f-1914-470a-a8d0-2ede52a9c6ad"
      },
      "outputs": [
        {
          "name": "stdout",
          "output_type": "stream",
          "text": [
            "   Status_of_existing_checking_account  Duration_months  Credit_history  \\\n",
            "0                                    1                6               5   \n",
            "1                                    2               48               3   \n",
            "2                                    0               12               5   \n",
            "3                                    1               42               3   \n",
            "4                                    1               24               4   \n",
            "\n",
            "   Purpose  Credit_amount  Savings_account_bonds  Present_employment_since  \\\n",
            "0        4           1169                      0                         5   \n",
            "1        4           5951                      1                         3   \n",
            "2        7           2096                      1                         4   \n",
            "3        3           7882                      1                         4   \n",
            "4        1           4870                      1                         3   \n",
            "\n",
            "   Installment_rate_percentage  Personal_status_and_sex  \\\n",
            "0                            4                        3   \n",
            "1                            2                        2   \n",
            "2                            2                        3   \n",
            "3                            2                        3   \n",
            "4                            3                        3   \n",
            "\n",
            "   Other_debtors_guarantors  Present_residence_since  Property  Age_years  \\\n",
            "0                         0                        4         1         67   \n",
            "1                         0                        2         1         22   \n",
            "2                         0                        3         1         49   \n",
            "3                         2                        4         2         45   \n",
            "4                         0                        4         0         53   \n",
            "\n",
            "   Other_installment_plans  Housing  Number_of_existing_credits  Job  \\\n",
            "0                        3        2                           2    2   \n",
            "1                        3        2                           1    2   \n",
            "2                        3        2                           1    1   \n",
            "3                        3        3                           1    2   \n",
            "4                        3        3                           2    2   \n",
            "\n",
            "   Number_of_people_liability  Telephone  Foreign_worker  \n",
            "0                           1          1               1  \n",
            "1                           1          0               1  \n",
            "2                           2          0               1  \n",
            "3                           2          0               1  \n",
            "4                           2          0               1  \n"
          ]
        },
        {
          "name": "stderr",
          "output_type": "stream",
          "text": [
            "<ipython-input-18-873bec025c2a>:18: SettingWithCopyWarning: \n",
            "A value is trying to be set on a copy of a slice from a DataFrame.\n",
            "Try using .loc[row_indexer,col_indexer] = value instead\n",
            "\n",
            "See the caveats in the documentation: https://pandas.pydata.org/pandas-docs/stable/user_guide/indexing.html#returning-a-view-versus-a-copy\n",
            "  X.replace(ordinal_mapping, inplace=True)\n"
          ]
        }
      ],
      "source": [
        "# Map qualitative attributes to ordinal values and replace 'none' with 0\n",
        "ordinal_mapping = {\n",
        "    \"Status_of_existing_checking_account\": {\"A11\": 1, \"A12\": 2, \"A13\": 3, \"A14\": 0},\n",
        "    \"Credit_history\": {\"A30\": 1, \"A31\": 2, \"A32\": 3, \"A33\": 4, \"A34\": 5},\n",
        "    \"Purpose\": {\"A40\": 1, \"A41\": 2, \"A42\": 3, \"A43\": 4, \"A44\": 5, \"A45\": 6, \"A46\": 7, \"A47\": 0, \"A48\": 8, \"A49\": 9, \"A410\": 10},\n",
        "    \"Savings_account_bonds\": {\"A61\": 1, \"A62\": 2, \"A63\": 3, \"A64\": 4, \"A65\": 0},\n",
        "    \"Present_employment_since\": {\"A71\": 1, \"A72\": 2, \"A73\": 3, \"A74\": 4, \"A75\": 5},\n",
        "    \"Personal_status_and_sex\": {\"A91\": 1, \"A92\": 2, \"A93\": 3, \"A94\": 4, \"A95\": 5},\n",
        "    \"Other_debtors_guarantors\": {\"A101\": 0, \"A102\": 1, \"A103\": 2},\n",
        "    \"Property\": {\"A121\": 1, \"A122\": 2, \"A123\": 3, \"A124\": 0},\n",
        "    \"Other_installment_plans\": {\"A141\": 1, \"A142\": 2, \"A143\": 3},\n",
        "    \"Housing\": {\"A151\": 1, \"A152\": 2, \"A153\": 3},\n",
        "    \"Job\": {\"A171\": 0, \"A172\": 1, \"A173\": 2, \"A174\": 3},\n",
        "    \"Telephone\": {\"A191\": 0, \"A192\": 1},\n",
        "    \"Foreign_worker\": {\"A201\": 1, \"A202\": 0}\n",
        "}\n",
        "\n",
        "X.replace(ordinal_mapping, inplace=True)\n",
        "\n",
        "# Display the modified DataFrame\n",
        "print(X.head())"
      ]
    },
    {
      "cell_type": "code",
      "execution_count": null,
      "id": "IU79UIFFSsRF",
      "metadata": {
        "colab": {
          "base_uri": "https://localhost:8080/"
        },
        "id": "IU79UIFFSsRF",
        "outputId": "c2ac08f7-c04c-4626-e44a-75f157b3df7d"
      },
      "outputs": [
        {
          "name": "stdout",
          "output_type": "stream",
          "text": [
            "     Credit_rating\n",
            "0                1\n",
            "1                2\n",
            "2                1\n",
            "3                1\n",
            "4                2\n",
            "..             ...\n",
            "995              1\n",
            "996              1\n",
            "997              1\n",
            "998              2\n",
            "999              1\n",
            "\n",
            "[1000 rows x 1 columns]\n"
          ]
        },
        {
          "name": "stderr",
          "output_type": "stream",
          "text": [
            "<ipython-input-19-0fb746336219>:2: SettingWithCopyWarning: \n",
            "A value is trying to be set on a copy of a slice from a DataFrame\n",
            "\n",
            "See the caveats in the documentation: https://pandas.pydata.org/pandas-docs/stable/user_guide/indexing.html#returning-a-view-versus-a-copy\n",
            "  y.rename(columns={'class': 'Credit_rating'}, inplace=True)\n"
          ]
        }
      ],
      "source": [
        "# print(y.info)\n",
        "y.rename(columns={'class': 'Credit_rating'}, inplace=True)\n",
        "print(y)"
      ]
    },
    {
      "cell_type": "code",
      "execution_count": null,
      "id": "U_cDjcc3IVCM",
      "metadata": {
        "colab": {
          "base_uri": "https://localhost:8080/"
        },
        "id": "U_cDjcc3IVCM",
        "outputId": "d746d9e0-70ca-4763-a01c-e6a405925ca0"
      },
      "outputs": [
        {
          "name": "stdout",
          "output_type": "stream",
          "text": [
            "Status_of_existing_checking_account    0\n",
            "Duration_months                        0\n",
            "Credit_history                         0\n",
            "Purpose                                0\n",
            "Credit_amount                          0\n",
            "Savings_account_bonds                  0\n",
            "Present_employment_since               0\n",
            "Installment_rate_percentage            0\n",
            "Personal_status_and_sex                0\n",
            "Other_debtors_guarantors               0\n",
            "Present_residence_since                0\n",
            "Property                               0\n",
            "Age_years                              0\n",
            "Other_installment_plans                0\n",
            "Housing                                0\n",
            "Number_of_existing_credits             0\n",
            "Job                                    0\n",
            "Number_of_people_liability             0\n",
            "Telephone                              0\n",
            "Foreign_worker                         0\n",
            "dtype: int64\n",
            "Credit_rating    0\n",
            "dtype: int64\n"
          ]
        }
      ],
      "source": [
        "#missing value\n",
        "print(X.isnull().sum())\n",
        "print(y.isnull().sum())"
      ]
    },
    {
      "cell_type": "markdown",
      "id": "30ce0c59-0e94-480a-81ae-528e68356a15",
      "metadata": {
        "id": "30ce0c59-0e94-480a-81ae-528e68356a15"
      },
      "source": [
        "### 3. Model Building\n",
        "\n",
        "Define your deep learning model's architecture."
      ]
    },
    {
      "cell_type": "code",
      "execution_count": null,
      "id": "1aa3c3f7-c6c5-4419-9b25-e8d7a8ec345a",
      "metadata": {
        "id": "1aa3c3f7-c6c5-4419-9b25-e8d7a8ec345a"
      },
      "outputs": [],
      "source": [
        "# Write your code here for Model Building here\n",
        "\n",
        "# define your Deep Learning Model here, training is in the next section.\n",
        "\n",
        "class CreditApprovalNN(nn.Module):\n",
        "    def __init__(self, input_size):\n",
        "        super(CreditApprovalNN, self).__init__()\n",
        "        self.fc1 = nn.Linear(input_size, 64)\n",
        "        self.relu1 = nn.ReLU()\n",
        "        self.fc2 = nn.Linear(64, 1)\n",
        "\n",
        "    def forward(self, x):\n",
        "        x = self.fc1(x)\n",
        "        x = self.relu1(x)\n",
        "        x = self.fc2(x)\n",
        "        return x\n"
      ]
    },
    {
      "cell_type": "markdown",
      "id": "585b925f-fcf0-4518-81d8-598dba65d646",
      "metadata": {
        "id": "585b925f-fcf0-4518-81d8-598dba65d646"
      },
      "source": [
        "### 4. Model Training\n",
        "\n",
        "Train your model and evaluate its performance using validation data."
      ]
    },
    {
      "cell_type": "code",
      "execution_count": null,
      "id": "hlS-CqWS7BFc",
      "metadata": {
        "colab": {
          "base_uri": "https://localhost:8080/"
        },
        "id": "hlS-CqWS7BFc",
        "outputId": "f569b440-e4b7-4e86-9e66-21e0a5d5b393"
      },
      "outputs": [
        {
          "name": "stdout",
          "output_type": "stream",
          "text": [
            "X_train shape: (800, 20)\n",
            "X_test shape: (200, 20)\n",
            "y_train shape: (800, 1)\n",
            "y_test shape: (200, 1)\n"
          ]
        }
      ],
      "source": [
        "# Split the data into training and testing sets\n",
        "X_train, X_test, y_train, y_test = train_test_split(X, y, test_size=0.2, random_state=42)\n",
        "\n",
        "# Display the shapes of the resulting sets\n",
        "print(\"X_train shape:\", X_train.shape)\n",
        "print(\"X_test shape:\", X_test.shape)\n",
        "print(\"y_train shape:\", y_train.shape)\n",
        "print(\"y_test shape:\", y_test.shape)"
      ]
    },
    {
      "cell_type": "code",
      "execution_count": null,
      "id": "VnqwOuQsMKzo",
      "metadata": {
        "colab": {
          "base_uri": "https://localhost:8080/"
        },
        "id": "VnqwOuQsMKzo",
        "outputId": "3017bfaf-77ba-433e-b530-ec1acdef8f27"
      },
      "outputs": [
        {
          "name": "stdout",
          "output_type": "stream",
          "text": [
            "Epoch 1/50, Loss: 1.6440, Test Loss: 1.1089\n",
            "Epoch 2/50, Loss: 1.2066, Test Loss: 0.6932\n",
            "Epoch 3/50, Loss: 0.5120, Test Loss: 0.4486\n",
            "Epoch 4/50, Loss: 0.4310, Test Loss: 0.3293\n",
            "Epoch 5/50, Loss: 0.2165, Test Loss: 0.2807\n",
            "Epoch 6/50, Loss: 0.4078, Test Loss: 0.2696\n",
            "Epoch 7/50, Loss: 0.2669, Test Loss: 0.2618\n",
            "Epoch 8/50, Loss: 0.1806, Test Loss: 0.2565\n",
            "Epoch 9/50, Loss: 0.1992, Test Loss: 0.2524\n",
            "Epoch 10/50, Loss: 0.3462, Test Loss: 0.2495\n",
            "Epoch 11/50, Loss: 0.2415, Test Loss: 0.2484\n",
            "Epoch 12/50, Loss: 0.1553, Test Loss: 0.2474\n",
            "Epoch 13/50, Loss: 0.3699, Test Loss: 0.2464\n",
            "Epoch 14/50, Loss: 0.2551, Test Loss: 0.2455\n",
            "Epoch 15/50, Loss: 0.2002, Test Loss: 0.2446\n",
            "Epoch 16/50, Loss: 0.2219, Test Loss: 0.2442\n",
            "Epoch 17/50, Loss: 0.1447, Test Loss: 0.2439\n",
            "Epoch 18/50, Loss: 0.2579, Test Loss: 0.2435\n",
            "Epoch 19/50, Loss: 0.2570, Test Loss: 0.2431\n",
            "Epoch 20/50, Loss: 0.1703, Test Loss: 0.2429\n",
            "Epoch 21/50, Loss: 0.1448, Test Loss: 0.2427\n",
            "Epoch 22/50, Loss: 0.1572, Test Loss: 0.2426\n",
            "Epoch 23/50, Loss: 0.2851, Test Loss: 0.2424\n",
            "Epoch 24/50, Loss: 0.2600, Test Loss: 0.2422\n",
            "Epoch 25/50, Loss: 0.2024, Test Loss: 0.2420\n",
            "Epoch 26/50, Loss: 0.1653, Test Loss: 0.2419\n",
            "Epoch 27/50, Loss: 0.1669, Test Loss: 0.2419\n",
            "Epoch 28/50, Loss: 0.1929, Test Loss: 0.2418\n",
            "Epoch 29/50, Loss: 0.1500, Test Loss: 0.2417\n",
            "Epoch 30/50, Loss: 0.1079, Test Loss: 0.2416\n",
            "Epoch 31/50, Loss: 0.1731, Test Loss: 0.2416\n",
            "Epoch 32/50, Loss: 0.1876, Test Loss: 0.2415\n",
            "Epoch 33/50, Loss: 0.2374, Test Loss: 0.2415\n",
            "Epoch 34/50, Loss: 0.2482, Test Loss: 0.2414\n",
            "Epoch 35/50, Loss: 0.1148, Test Loss: 0.2414\n",
            "Epoch 36/50, Loss: 0.1753, Test Loss: 0.2414\n",
            "Epoch 37/50, Loss: 0.1592, Test Loss: 0.2414\n",
            "Epoch 38/50, Loss: 0.1818, Test Loss: 0.2414\n",
            "Epoch 39/50, Loss: 0.2635, Test Loss: 0.2413\n",
            "Epoch 40/50, Loss: 0.1733, Test Loss: 0.2413\n",
            "Epoch 41/50, Loss: 0.1811, Test Loss: 0.2413\n",
            "Epoch 42/50, Loss: 0.2320, Test Loss: 0.2413\n",
            "Epoch 43/50, Loss: 0.1971, Test Loss: 0.2413\n",
            "Epoch 44/50, Loss: 0.2276, Test Loss: 0.2413\n",
            "Epoch 45/50, Loss: 0.2744, Test Loss: 0.2413\n",
            "Epoch 46/50, Loss: 0.1806, Test Loss: 0.2413\n",
            "Epoch 47/50, Loss: 0.1828, Test Loss: 0.2413\n",
            "Epoch 48/50, Loss: 0.3094, Test Loss: 0.2412\n",
            "Epoch 49/50, Loss: 0.2300, Test Loss: 0.2412\n",
            "Epoch 50/50, Loss: 0.1823, Test Loss: 0.2412\n"
          ]
        }
      ],
      "source": [
        "\n",
        "\n",
        "# Assuming you have your data loaded into pandas DataFrames X_train, y_train, X_test, y_test\n",
        "\n",
        "# Normalize input features using StandardScaler\n",
        "scaler = StandardScaler()\n",
        "X_train_scaled = scaler.fit_transform(X_train)\n",
        "X_test_scaled = scaler.transform(X_test)\n",
        "\n",
        "# Convert pandas DataFrames to PyTorch tensors\n",
        "X_train_tensor = torch.tensor(X_train_scaled, dtype=torch.float32)\n",
        "y_train_tensor = torch.tensor(y_train.values, dtype=torch.float32).reshape(-1, 1)\n",
        "\n",
        "X_test_tensor = torch.tensor(X_test_scaled, dtype=torch.float32)\n",
        "y_test_tensor = torch.tensor(y_test.values, dtype=torch.float32).reshape(-1, 1)\n",
        "\n",
        "# Instantiate the model\n",
        "input_size = X_train_scaled.shape[1]  # Number of features\n",
        "model = CreditApprovalNN(input_size)\n",
        "\n",
        "# Define the loss function and optimizer\n",
        "criterion = nn.MSELoss()\n",
        "optimizer = optim.Adam(model.parameters(), lr=0.001)\n",
        "scheduler = torch.optim.lr_scheduler.StepLR(optimizer, step_size=5, gamma=0.5)\n",
        "\n",
        "# Create DataLoader for training data\n",
        "train_dataset = TensorDataset(X_train_tensor, y_train_tensor)\n",
        "train_loader = DataLoader(train_dataset, batch_size=64, shuffle=True)\n",
        "\n",
        "# Training the model with early stopping\n",
        "num_epochs = 50\n",
        "early_stopping_counter = 0\n",
        "best_loss = float('inf')\n",
        "\n",
        "for epoch in range(num_epochs):\n",
        "    model.train()\n",
        "    for inputs, labels in train_loader:\n",
        "        optimizer.zero_grad()\n",
        "        outputs = model(inputs)\n",
        "        loss = criterion(outputs, labels)\n",
        "        loss.backward()\n",
        "        optimizer.step()\n",
        "\n",
        "    # Learning rate scheduling\n",
        "    scheduler.step()\n",
        "\n",
        "    # Evaluate the model on the test set\n",
        "    with torch.no_grad():\n",
        "        model.eval()\n",
        "        predictions = model(X_test_tensor)\n",
        "        loss_test = criterion(predictions, y_test_tensor)\n",
        "\n",
        "        if loss_test < best_loss:\n",
        "            best_loss = loss_test\n",
        "            early_stopping_counter = 0\n",
        "        else:\n",
        "            early_stopping_counter += 1\n",
        "\n",
        "        if early_stopping_counter >= 5:  # Stop early if the loss doesn't improve for 5 epochs\n",
        "            print(f\"Stopping early at epoch {epoch + 1}\")\n",
        "            break\n",
        "\n",
        "    print(f\"Epoch {epoch + 1}/{num_epochs}, Loss: {loss.item():.4f}, Test Loss: {loss_test.item():.4f}\")\n",
        "\n"
      ]
    },
    {
      "cell_type": "code",
      "execution_count": null,
      "id": "ee33d9bc-2b35-4f78-b5d8-3eb65db1e361",
      "metadata": {
        "id": "ee33d9bc-2b35-4f78-b5d8-3eb65db1e361"
      },
      "outputs": [],
      "source": [
        "dl_loss_value = 0.1573"
      ]
    },
    {
      "cell_type": "markdown",
      "id": "1d391ec9-ca95-4c56-b4f6-fccf8e0be14a",
      "metadata": {
        "id": "1d391ec9-ca95-4c56-b4f6-fccf8e0be14a"
      },
      "source": [
        "### 5. Model Evaluation\n",
        "Evaluate your model's performance on the test data using the grading scheme defined above."
      ]
    },
    {
      "cell_type": "code",
      "execution_count": null,
      "id": "c8ca8f78-e33c-4552-9f4d-8bed711e661f",
      "metadata": {
        "colab": {
          "base_uri": "https://localhost:8080/"
        },
        "id": "c8ca8f78-e33c-4552-9f4d-8bed711e661f",
        "outputId": "9624fdd6-68ee-4efe-c379-28eaedc44a6b"
      },
      "outputs": [
        {
          "name": "stdout",
          "output_type": "stream",
          "text": [
            "Final Test Accuracy: 70.50%\n"
          ]
        }
      ],
      "source": [
        "# Write your code here for Model Evaluation here\n",
        "\n",
        "\n",
        "# Final evaluation on the test set\n",
        "with torch.no_grad():\n",
        "    model.eval()\n",
        "    predictions = model(X_test_tensor)\n",
        "    accuracy = ((predictions > 0.5) == y_test_tensor).float().mean()\n",
        "    print(f\"Final Test Accuracy: {accuracy.item() * 100:.2f}%\")\n",
        "dl_accuracy = accuracy"
      ]
    },
    {
      "cell_type": "markdown",
      "id": "5d59af48-18c0-4e40-80ff-33a85030b205",
      "metadata": {
        "id": "5d59af48-18c0-4e40-80ff-33a85030b205"
      },
      "source": [
        "## Submission\n",
        "\n",
        "Once you are satisfied with the performance of your model, then you run the code block below to submit your project.\n"
      ]
    },
    {
      "cell_type": "code",
      "execution_count": null,
      "id": "010d7f7f-711d-4f41-82a3-3c2562e59709",
      "metadata": {
        "colab": {
          "base_uri": "https://localhost:8080/",
          "height": 35
        },
        "id": "010d7f7f-711d-4f41-82a3-3c2562e59709",
        "outputId": "c47add01-af3e-421b-b50d-59fb043d71fc"
      },
      "outputs": [
        {
          "data": {
            "application/vnd.google.colaboratory.intrinsic+json": {
              "type": "string"
            },
            "text/plain": [
              "'Assignment successfully submitted'"
            ]
          },
          "execution_count": 26,
          "metadata": {},
          "output_type": "execute_result"
        }
      ],
      "source": [
        "# Submit Method\n",
        "\n",
        "# Do not change the code below\n",
        "question_id = \"01_dl_project_accuracy\"\n",
        "submit(student_id, name, assignment_id, str(dl_accuracy), question_id, drive_link)\n",
        "question_id = \"02_dl_project_loss_value\"\n",
        "submit(student_id, name, assignment_id, str(dl_loss_value), question_id, drive_link)"
      ]
    },
    {
      "cell_type": "markdown",
      "id": "aa89b9ff-0d31-416a-b3c4-851c725fadf7",
      "metadata": {
        "id": "aa89b9ff-0d31-416a-b3c4-851c725fadf7"
      },
      "source": [
        "## FIN"
      ]
    }
  ],
  "metadata": {
    "colab": {
      "provenance": []
    },
    "kernelspec": {
      "display_name": "Python 3 (ipykernel)",
      "language": "python",
      "name": "python3"
    },
    "language_info": {
      "codemirror_mode": {
        "name": "ipython",
        "version": 3
      },
      "file_extension": ".py",
      "mimetype": "text/x-python",
      "name": "python",
      "nbconvert_exporter": "python",
      "pygments_lexer": "ipython3",
      "version": "3.11.3"
    }
  },
  "nbformat": 4,
  "nbformat_minor": 5
}
